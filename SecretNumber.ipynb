{
 "cells": [
  {
   "cell_type": "code",
   "execution_count": 2,
   "id": "48f085ae",
   "metadata": {},
   "outputs": [],
   "source": [
    "import random,os,re,math"
   ]
  },
  {
   "cell_type": "code",
   "execution_count": 5,
   "id": "38b29b51",
   "metadata": {},
   "outputs": [
    {
     "name": "stdout",
     "output_type": "stream",
     "text": [
      "I'm thinking of a number between 1 and 20\n",
      "take a guess : \n",
      "15\n",
      "Too large from SecretNumber\n",
      "take a guess : \n",
      "10\n",
      "Too large from SecretNumber\n",
      "take a guess : \n",
      "5\n",
      "Too large from SecretNumber\n",
      "take a guess : \n",
      "2\n",
      "Too small from SecretNumber\n",
      "Nope ! The number I was thinking was 4\n"
     ]
    }
   ],
   "source": [
    "SecretNumber = random.randint(1,20)\n",
    "print('I\\'m thinking of a number between 1 and 20')\n",
    "#Ask the player to guess the number for 6 times\n",
    "\n",
    "for guesstaken in range(1,7):\n",
    "    print('take a guess : ')\n",
    "    guess = int(input())\n",
    "    \n",
    "    if guess<SecretNumber:\n",
    "        print('Too small from SecretNumber')\n",
    "    if guess>SecretNumber:\n",
    "        print('Too large from SecretNumber')\n",
    "    else:\n",
    "        break\n",
    "if guess==SecretNumber:\n",
    "    print('Great Job ! You guessed correctly in '+ str(guesstaken))\n",
    "else:\n",
    "    print('Nope ! The number I was thinking was ' + str(SecretNumber))\n",
    "    \n",
    "\n",
    "        "
   ]
  },
  {
   "cell_type": "code",
   "execution_count": null,
   "id": "a7a25dd6",
   "metadata": {},
   "outputs": [],
   "source": []
  }
 ],
 "metadata": {
  "kernelspec": {
   "display_name": "Python 3 (ipykernel)",
   "language": "python",
   "name": "python3"
  },
  "language_info": {
   "codemirror_mode": {
    "name": "ipython",
    "version": 3
   },
   "file_extension": ".py",
   "mimetype": "text/x-python",
   "name": "python",
   "nbconvert_exporter": "python",
   "pygments_lexer": "ipython3",
   "version": "3.10.4"
  }
 },
 "nbformat": 4,
 "nbformat_minor": 5
}
